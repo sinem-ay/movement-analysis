{
 "cells": [
  {
   "cell_type": "markdown",
   "source": [
    "Installing packages and loading data"
   ],
   "metadata": {
    "collapsed": false
   }
  },
  {
   "cell_type": "code",
   "execution_count": 1,
   "metadata": {
    "collapsed": true
   },
   "outputs": [
    {
     "name": "stdout",
     "output_type": "stream",
     "text": [
      "             SessionId (iPad identifier)   Contacts  Group    AGE  Gender  \\\n",
      "0   DED6E759-F3EC-4990-894B-BF9BE45880C5   LA002_TD    1.0  10.46     1.0   \n",
      "1   3E7BFEE1-01E4-4CE1-B500-1DA74CCF3EA4   LA021_TD    1.0   9.37     1.0   \n",
      "2   AB5C1919-3241-45E6-9B36-A8BE9B669EB4   LA022_TD    1.0  12.79     1.0   \n",
      "3   7ABD85F5-67A8-4840-AC48-DB2192FBDFDA   LA023_TD    1.0  11.62     1.0   \n",
      "4   C85938E3-4F03-4BA8-A50C-E04E155427AE   LA036_TD    1.0  11.18     1.0   \n",
      "5   A3768189-D4AC-499D-B368-CC07877B01AF   LA038_TD    1.0  10.46     2.0   \n",
      "6   85E896CB-5A69-4306-B7F8-B5A5F0171A94   LA043_TD    1.0  11.69     1.0   \n",
      "7   34F616C7-6024-4BB4-80DC-2F59B79C54BC   LA046_TD    1.0  13.86     1.0   \n",
      "8   43BAC3A1-BF1B-456A-9628-1892E72DCEFB   LA048_TD    1.0  11.41     1.0   \n",
      "9   91DE188F-CB8B-4B4B-AA70-777C3742F513   LA051_TD    1.0   9.13     1.0   \n",
      "10  6D43F7BA-0DBA-4862-B20C-D62E65A50E9B   LA054_TD    1.0  10.37     2.0   \n",
      "11  B4FACABE-E90B-4F5C-8D1E-E43F210F24DB   LA055_TD    1.0  10.78     1.0   \n",
      "12  8F0C6ADF-27FB-4D75-980A-333D11B3D847   LA057_TD    1.0   9.85     1.0   \n",
      "13  6831D1AB-2B0A-4D53-8637-94D937222C3C   LA059_TD    1.0  11.87     1.0   \n",
      "14  8A023A13-607F-4864-96B2-5B16C1F3DDD0   LA075_TD    1.0  14.44     1.0   \n",
      "15  BC10F86E-D1BC-470B-A4A1-57051E14E27A   LA096_TD    1.0  12.70     1.0   \n",
      "16  F119419D-09C2-47C4-B6A9-7F5FD77695B0   LA100_TD    1.0  17.84     2.0   \n",
      "17  EA715164-022C-46E3-83D5-2A01A36C1954   LA102_TD    1.0  15.60     2.0   \n",
      "18  5E52F08B-C28D-4C83-8DC5-3990B4D342F1   LA109_TD    1.0  17.46     2.0   \n",
      "19  70B61033-C5B3-4974-A9F5-1A8C96144A77   LA126_TD    1.0   8.88     2.0   \n",
      "20  D4F2AF17-C034-47B2-ADC7-1E69848FBFDF  LA027_ASD    2.0  11.10     1.0   \n",
      "21  7DE7ABB3-B26D-44D9-A218-DC5535CB9C74  LA029_ASD    2.0   9.71     1.0   \n",
      "22  BE91CF57-EDCE-45AC-9775-7F21CA4FE954  LA030_ASD    2.0   9.44     1.0   \n",
      "23  717C15B7-B009-46BF-903D-19AF6460370E  LA033_ASD    2.0   9.74     1.0   \n",
      "24  F9C41E97-592B-412F-9B79-341CDE107563  LA037_ASD    2.0  11.46     1.0   \n",
      "25  7D06A853-E1C6-4F67-8276-1320EBEC6F0A  LA039_ASD    2.0  10.31     1.0   \n",
      "26  C23BB614-47AE-4599-977B-54579BC68215  LA049_ASD    2.0  15.62     1.0   \n",
      "27  A03FB8BC-FA57-4997-8C47-28D70AC269EC  LA061_ASD    2.0  11.87     1.0   \n",
      "28  844C4E14-A05A-4C94-96E8-F3C82480B289  LA065_ASD    2.0  14.08     1.0   \n",
      "29  B1691479-41FE-46A3-9738-411AB24E7E51  LA068_ASD    2.0  14.81     1.0   \n",
      "30  8488A9CF-6A40-48E0-8877-2AF5317A2828  LA069_ASD    2.0  14.36     1.0   \n",
      "31  74785A5E-082F-40B3-AE34-3E4FB9041EB6  LA070_ASD    2.0  13.16     1.0   \n",
      "32  531F990E-70EE-4560-9B38-8543BB232CE8  LA071_ASD    2.0  13.22     2.0   \n",
      "33  A7D695AA-A2F9-4F7A-AEBE-3B35741EE004  LA081_ASD    2.0  13.94     1.0   \n",
      "34  FD255DA5-4E95-46E9-8F5D-3AD88196310E  LA084_ASD    2.0  11.05     1.0   \n",
      "35  2DEAB41B-175F-4AAF-A987-2E766151CE94  LA088_ASD    2.0  10.86     1.0   \n",
      "36  DF499303-C01C-4237-8898-0960E30E201E  LA091_ASD    2.0  14.84     1.0   \n",
      "37  8323104B-1E98-4B9F-8A62-40CBE91060A1  LA101_ASD    2.0  12.95     2.0   \n",
      "38  3DA3FA43-7241-47DC-BC8F-1934A202EBB8  LA032_DCD    3.0  12.21     1.0   \n",
      "39  9EFBF72E-5237-4F0D-A674-FCCD3A9E7A96  LA044_DCD    3.0  11.01     1.0   \n",
      "40  139B44BA-1323-459A-AEA6-98D36D46EAB8  LA045_DCD    3.0  11.41     2.0   \n",
      "41  DD2527BB-2B5C-419A-8A54-6F1C1E5D1D9F  LA047_DCD    3.0   9.69     2.0   \n",
      "42  2DF08AC3-D78D-4026-A737-030E371C6B84  LA050_DCD    3.0  14.78     1.0   \n",
      "43  D7006FC5-80A8-496D-AB65-1CDCBFB8CF75  LA053_DCD    3.0   9.14     1.0   \n",
      "44  4C854CE5-9FF3-4BE2-9A65-C9C569C878A8  LA062_DCD    3.0  13.96     2.0   \n",
      "45  9A62993E-B68A-4AAB-A4E6-F6621140A3A6  LA063_DCD    3.0  14.48     1.0   \n",
      "46  66C3D5E7-9EEE-4728-B8B8-CB62C9439C3B  LA073_DCD    3.0  13.83     2.0   \n",
      "47  66272722-67FF-4DAF-A2EC-4CFACB0A322B  LA078_DCD    3.0   9.75     1.0   \n",
      "48  DE5708F6-D045-498A-ACAF-AFCBAB4F2814  LA092_DCD    3.0  13.55     1.0   \n",
      "49  D3935059-86D8-4ECA-9BF3-648CFA90113E  LA093_DCD    3.0  15.45     2.0   \n",
      "50  DE1CBC2F-EDB5-4D82-8179-47C31A7AC6E1  LA094_DCD    3.0  13.90     2.0   \n",
      "51  C453657E-7A50-4A90-B295-94E5F4EBC66C  LA095_DCD    3.0  10.64     2.0   \n",
      "52  CA9066A4-1C64-456F-BAD7-45774CF1F692  LA123_DCD    3.0   8.65     1.0   \n",
      "53  3C3EC5E2-8436-4AD7-A333-C75981BFB17D  LA132_DCD    3.0  10.08     1.0   \n",
      "54                                   NaN        NaN    NaN    NaN     NaN   \n",
      "55                                   NaN        NaN    NaN    NaN     NaN   \n",
      "56                                   NaN        NaN    NaN    NaN     NaN   \n",
      "57                                   NaN        NaN    NaN    NaN     NaN   \n",
      "58                                   NaN        NaN    NaN    NaN     NaN   \n",
      "\n",
      "    Dual Diagnosis  Conners  iqscores_verbiq  iqscores_perfiq  \\\n",
      "0              0.0     45.0            113.0            117.0   \n",
      "1              0.0     45.0            116.0            120.0   \n",
      "2              0.0     44.0            108.0            122.0   \n",
      "3              0.0     71.0            116.0            124.0   \n",
      "4              0.0     43.0            114.0             92.0   \n",
      "5              0.0     45.0            113.0            102.0   \n",
      "6              0.0     49.0             86.0            102.0   \n",
      "7              0.0     44.0            122.0            121.0   \n",
      "8              0.0     66.0            134.0            132.0   \n",
      "9              0.0     45.0            134.0             98.0   \n",
      "10             0.0     45.0            112.0            115.0   \n",
      "11             0.0     44.0            122.0            131.0   \n",
      "12             0.0     45.0            136.0            110.0   \n",
      "13             0.0     43.0             98.0            105.0   \n",
      "14             0.0     44.0            125.0            128.0   \n",
      "15             0.0     44.0            107.0            101.0   \n",
      "16             0.0     45.0            107.0            108.0   \n",
      "17             0.0     55.0             97.0            117.0   \n",
      "18             0.0     45.0            123.0             93.0   \n",
      "19             0.0     45.0            114.0            101.0   \n",
      "20             1.0     90.0             85.0             63.0   \n",
      "21             1.0     90.0            151.0            114.0   \n",
      "22             1.0     76.0             65.0             97.0   \n",
      "23             0.0     72.0            104.0            100.0   \n",
      "24             1.0     77.0            114.0            115.0   \n",
      "25             1.0     90.0             99.0             72.0   \n",
      "26             1.0     90.0            123.0            130.0   \n",
      "27             0.0     82.0            116.0             99.0   \n",
      "28             1.0     90.0            110.0             99.0   \n",
      "29             1.0     90.0             96.0             96.0   \n",
      "30             1.0     88.0            102.0            118.0   \n",
      "31             1.0     84.0            104.0            126.0   \n",
      "32             1.0     90.0            149.0            125.0   \n",
      "33             1.0     75.0            130.0            154.0   \n",
      "34             1.0     55.0            107.0            100.0   \n",
      "35             1.0     90.0            106.0            116.0   \n",
      "36             1.0     88.0            104.0            112.0   \n",
      "37             1.0     90.0            110.0            112.0   \n",
      "38             0.0     90.0            105.0             79.0   \n",
      "39             0.0     90.0            113.0            154.0   \n",
      "40             0.0     65.0             91.0             87.0   \n",
      "41             0.0     44.0            112.0            132.0   \n",
      "42             0.0     90.0            102.0            103.0   \n",
      "43             0.0     85.0             87.0             74.0   \n",
      "44             0.0     90.0            120.0            100.0   \n",
      "45             0.0     90.0            136.0             99.0   \n",
      "46             0.0     57.0            146.0            118.0   \n",
      "47             0.0     66.0            131.0            111.0   \n",
      "48             0.0     44.0            118.0            104.0   \n",
      "49             0.0     50.0            119.0            121.0   \n",
      "50             0.0     68.0             96.0             71.0   \n",
      "51             0.0     87.0            144.0            131.0   \n",
      "52             0.0     44.0            119.0            106.0   \n",
      "53             0.0     87.0            108.0            131.0   \n",
      "54             NaN      NaN              NaN              NaN   \n",
      "55             NaN      NaN              NaN              NaN   \n",
      "56             NaN      NaN              NaN              NaN   \n",
      "57             NaN      NaN              NaN              NaN   \n",
      "58             NaN      NaN              NaN              NaN   \n",
      "\n",
      "    iqscores_full4iq  ...  Praxis_Total_Correct_MF  DirectnessIndexStdDev  \\\n",
      "0              118.0  ...                     0.63             124.023336   \n",
      "1              120.0  ...                     0.52             124.199008   \n",
      "2              117.0  ...                     0.72             156.785189   \n",
      "3              122.0  ...                     0.84              77.083826   \n",
      "4              104.0  ...                      0.8              99.913466   \n",
      "5              109.0  ...                     0.64             131.302615   \n",
      "6               93.0  ...                      0.8             106.715631   \n",
      "7              125.0  ...                     0.96             149.137203   \n",
      "8              137.0  ...                     0.76              79.268881   \n",
      "9              119.0  ...                     0.72              92.626196   \n",
      "10             115.0  ...                     0.72             110.706745   \n",
      "11             130.0  ...                     0.56             160.013816   \n",
      "12             127.0  ...                     0.44              162.50671   \n",
      "13             101.0  ...                     0.72              142.50356   \n",
      "14             130.0  ...                     0.72             122.872077   \n",
      "15             105.0  ...                      0.8             141.711694   \n",
      "16             108.0  ...                     0.75             125.387582   \n",
      "17             107.0  ...                     0.76             121.145902   \n",
      "18             110.0  ...                     0.75              115.69027   \n",
      "19             109.0  ...                     0.48             113.080957   \n",
      "20              72.0  ...                     0.24             123.906827   \n",
      "21             134.0  ...                     0.48             129.086654   \n",
      "22              79.0  ...                      0.2             117.254226   \n",
      "23             102.0  ...                     0.56             139.026674   \n",
      "24             117.0  ...                     0.52             125.062127   \n",
      "25              84.0  ...                     0.36              78.974393   \n",
      "26             130.0  ...                     0.48             134.774699   \n",
      "27             108.0  ...                      0.4             135.387028   \n",
      "28             105.0  ...                     0.64              75.274659   \n",
      "29              95.0  ...                     0.48              87.697886   \n",
      "30             111.0  ...                     0.64             179.337543   \n",
      "31             116.0  ...                      0.5             119.129186   \n",
      "32             139.0  ...                      0.6             101.111355   \n",
      "33             142.0  ...                     0.36              86.300709   \n",
      "34             105.0  ...                     0.38              83.262392   \n",
      "35             112.0  ...                     0.67              73.922002   \n",
      "36             108.0  ...                      0.8             119.653591   \n",
      "37             113.0  ...                     0.84              72.233334   \n",
      "38              91.0  ...                      0.6             100.496485   \n",
      "39             132.0  ...                     0.92             144.856916   \n",
      "40              87.0  ...                     0.64              79.645821   \n",
      "41             124.0  ...                     0.44             144.153234   \n",
      "42             103.0  ...                     0.48              68.607914   \n",
      "43              74.0  ...                      0.4              75.096777   \n",
      "44             112.0  ...                     0.68              85.950133   \n",
      "45             121.0  ...                     0.52             106.824631   \n",
      "46             135.0  ...                     0.44              74.411734   \n",
      "47             125.0  ...                     0.68               65.25484   \n",
      "48             113.0  ...                     0.72              98.489391   \n",
      "49             123.0  ...                     0.83              92.655493   \n",
      "50              81.0  ...                     0.36             107.774239   \n",
      "51             141.0  ...                     0.72             122.698249   \n",
      "52             115.0  ...                     0.48             143.077787   \n",
      "53             121.0  ...                     0.36             128.928322   \n",
      "54               NaN  ...                      NaN    DirectnessIndexStdD   \n",
      "55               NaN  ...                  TD mean             122.833733   \n",
      "56               NaN  ...                    TD SD              24.719817   \n",
      "57               NaN  ...                 ASD mean             110.077516   \n",
      "58               NaN  ...                   ASD SD              29.377338   \n",
      "\n",
      "    GesturesAreaStdDev  GesturesAccelerationMin  AttitudeStdDev_x  \\\n",
      "0          17859.05922                  1.64452          0.000866   \n",
      "1          8199.004807                  1.11055          0.000624   \n",
      "2          17422.86683                 0.286644          0.000794   \n",
      "3          12511.27694                  1.08012          0.000468   \n",
      "4          10797.04884                 0.152454          0.000555   \n",
      "5          38903.17414                  0.32915          0.000841   \n",
      "6          15018.20569                 0.490077          0.000592   \n",
      "7          29279.55082                 0.719217          0.000549   \n",
      "8          8697.354094                 0.843725          0.000651   \n",
      "9          20175.37906                  0.07987          0.000482   \n",
      "10          13079.1157                   0.1894          0.000479   \n",
      "11         20992.91942                 0.973093          0.067683   \n",
      "12         17439.71331                 0.402358          0.000898   \n",
      "13         9837.849613                 0.346502          0.001864   \n",
      "14         19119.32941                 0.326244          0.000652   \n",
      "15         8606.163646                 0.843649          0.001035   \n",
      "16          9880.13535                 0.076484          0.000975   \n",
      "17         15948.70224                 0.432562           0.00094   \n",
      "18         18179.39071                 0.184635          0.001001   \n",
      "19         19175.16168                 0.026896          0.001593   \n",
      "20         35854.91724                 3.156906          0.000702   \n",
      "21         41586.20267                 1.391262          0.001325   \n",
      "22         23645.09994                 1.353634          0.159063   \n",
      "23         22706.20055                 0.841222          0.001266   \n",
      "24         11354.06696                 1.242738          0.000521   \n",
      "25         6313.757802                 0.076514          0.106046   \n",
      "26         33870.47306                 0.469996          0.047209   \n",
      "27         35986.33702                 1.640105          0.001063   \n",
      "28         8922.877184                 0.090656          0.000709   \n",
      "29         6785.601147                 3.789155          0.002259   \n",
      "30         17036.91487                 0.446097          0.000697   \n",
      "31         25519.90171                 1.210135          0.000799   \n",
      "32         32888.71735                  0.57129          0.000795   \n",
      "33         23003.27482                 0.319205           0.00108   \n",
      "34         25606.58317                 0.726259          0.001588   \n",
      "35         11853.01834                  0.37978          0.048198   \n",
      "36         18893.58148                 1.182402          0.000803   \n",
      "37         29858.65315                 0.517152          0.000677   \n",
      "38         16658.15334                  0.70055          0.000593   \n",
      "39         15614.41892                 0.470721          0.000736   \n",
      "40         9295.919692                 2.010859          0.000628   \n",
      "41         26567.79068                 0.115654          0.000553   \n",
      "42         6475.625155                 0.053812          0.000873   \n",
      "43         7626.775606                 0.423171          0.000581   \n",
      "44         20698.45294                 0.779149          0.000511   \n",
      "45         13939.51437                 0.943659          0.000534   \n",
      "46         5098.550278                 0.376493          0.000462   \n",
      "47         2832.763919                 0.089735           0.00067   \n",
      "48         18248.13388                 0.899629          0.001071   \n",
      "49          17522.8351                  0.28156          0.000625   \n",
      "50         15182.22919                 0.839458          0.001328   \n",
      "51         14120.56449                 0.234025           0.00491   \n",
      "52         28221.41552                 0.915989          0.003081   \n",
      "53         20442.53661                 0.204036          0.055487   \n",
      "54    GesturesAreaStdD   GesturesAccelerationMi    AttitudeStdDev   \n",
      "55        16556.070076                 0.526908          0.004177   \n",
      "56         7477.029648                  0.43237          0.014952   \n",
      "57        22871.454359                 1.078028          0.020822   \n",
      "58        10866.819047                 0.993477          0.044266   \n",
      "\n",
      "                                        ipad_behavior  \\\n",
      "0                                                  no   \n",
      "1                                                  no   \n",
      "2                                                  no   \n",
      "3                                                None   \n",
      "4                                                 NaN   \n",
      "5                                                none   \n",
      "6   very slow deliberate movements to stay in the ...   \n",
      "7             realized that it'll auto-draw the lines   \n",
      "8                                                  no   \n",
      "9                  twisted slightly after 1st picture   \n",
      "10  Figured out the lines auto-fill, adds to backg...   \n",
      "11            figured out it will auto-fill the lines   \n",
      "12                                rested head in hand   \n",
      "13                                               none   \n",
      "14                                                 no   \n",
      "15                                               none   \n",
      "16                                                 no   \n",
      "17                                               none   \n",
      "18               preferred to draw rather than color    \n",
      "19                         really like the chihuahua    \n",
      "20                                                NaN   \n",
      "21  didn't understand how to get a new picture so ...   \n",
      "22         had to remind him he could change pictures   \n",
      "23  very interactive, kept trying to talk directly...   \n",
      "24  picked up the same picture 4x; moved iPad at t...   \n",
      "25  turned iPad 30 degrees during trial; picked up...   \n",
      "26                picked up ipad with 20 seconds left   \n",
      "27  same pictures and colors on trial, figured out...   \n",
      "28  slightly moving in front of him but stayed fla...   \n",
      "29  alternated using index finger and thumb to dra...   \n",
      "30                                uses white to erase   \n",
      "31                            chatty, sought feedback   \n",
      "32                   no, spoke almost the entire time   \n",
      "33   \"Do I have to be quick about this?\" \"Did I win?\"   \n",
      "34                                                NaN   \n",
      "35  Kept pulling the tab, pulled the tab off the t...   \n",
      "36          ordered the background to create scenery    \n",
      "37                                               none   \n",
      "38                                                 no   \n",
      "39  after coloring first item (pig), couldn't rota...   \n",
      "40                                               none   \n",
      "41                                                 No   \n",
      "42                                               None   \n",
      "43                                                NaN   \n",
      "44                                                NaN   \n",
      "45                                                NaN   \n",
      "46                                                 no   \n",
      "47  impatient, had a lot to say about dinosaurs wh...   \n",
      "48                 figured out not to draw precisely    \n",
      "49                                                 no   \n",
      "50                                                 no   \n",
      "51                                               None   \n",
      "52                   tried to cheat, prompted by try    \n",
      "53                                               none   \n",
      "54                                                NaN   \n",
      "55                                                NaN   \n",
      "56                                                NaN   \n",
      "57                                                NaN   \n",
      "58                                                NaN   \n",
      "\n",
      "                                      ipad_motivation  \\\n",
      "0   reminded him he could choose another picture, ...   \n",
      "1                                                  no   \n",
      "2                                                  no   \n",
      "3                                                None   \n",
      "4                                                 NaN   \n",
      "5   reminded them about green arrow during trial s...   \n",
      "6                                                none   \n",
      "7   had to remind him he can use the green arrow t...   \n",
      "8                                                  no   \n",
      "9                                               none    \n",
      "10                                                NaN   \n",
      "11               stayed on one picture the whole time   \n",
      "12                                     somewhat tired   \n",
      "13                                               none   \n",
      "14                                                 no   \n",
      "15                                                 no   \n",
      "16                                                NaN   \n",
      "17                                                 no   \n",
      "18                                                NaN   \n",
      "19                                               none   \n",
      "20                                                NaN   \n",
      "21                                                 no   \n",
      "22                                                 no   \n",
      "23                                                 no   \n",
      "24                                                NaN   \n",
      "25  hunched over almost lying on other arm while c...   \n",
      "26                                                 no   \n",
      "27                                                NaN   \n",
      "28                                                NaN   \n",
      "29                         cautious, intent, focused    \n",
      "30                                               none   \n",
      "31                                               none   \n",
      "32                                                 no   \n",
      "33               Really wanted to finish last picture   \n",
      "34                                                 no   \n",
      "35                                               None   \n",
      "36                                               none   \n",
      "37                                               none   \n",
      "38                                                 no   \n",
      "39  learned how to 'cheat' the outline part by jus...   \n",
      "40                                               none   \n",
      "41                                                NaN   \n",
      "42                                               None   \n",
      "43                                                NaN   \n",
      "44                                               n/a    \n",
      "45                                                NaN   \n",
      "46                                                 no   \n",
      "47                                              none    \n",
      "48                                                 no   \n",
      "49                                                 no   \n",
      "50                                                 no   \n",
      "51                   Talked throughout to self and PR   \n",
      "52  \"hard to stay inside\" -> prompted \"do your best\"    \n",
      "53                                               none   \n",
      "54                                                NaN   \n",
      "55                                                NaN   \n",
      "56                                                NaN   \n",
      "57                                                NaN   \n",
      "58                                                NaN   \n",
      "\n",
      "                                           ipad_motor  ipad_date  \\\n",
      "0                                                  no 2017-01-06   \n",
      "1                                                  no 2017-01-15   \n",
      "2                                                  no 2017-01-13   \n",
      "3                                                  no 2017-07-22   \n",
      "4   uses right thumb to select colors; colors with... 2016-12-22   \n",
      "5                                                  no 2017-03-08   \n",
      "6                                                  no 2017-06-10   \n",
      "7                                                  no 2017-06-17   \n",
      "8   child moved in relationship to table; child mo... 2016-10-29   \n",
      "9                                                  no 2017-09-27   \n",
      "10                                                 no 2017-10-18   \n",
      "11                                                 no 2017-10-14   \n",
      "12                                                 no 2017-11-12   \n",
      "13                                                 no 2018-02-10   \n",
      "14                    got messier as task progressed  2018-07-08   \n",
      "15                                                 no 2019-02-03   \n",
      "16                                                 no 2019-03-09   \n",
      "17                                                 no 2019-03-03   \n",
      "18                                                NaN 2018-06-24   \n",
      "19  tilted ipad to the left to draw all images, ti... 2019-09-28   \n",
      "20                            colored with his thumb  2016-10-28   \n",
      "21                                                 no 2016-10-22   \n",
      "22  very slow movements, swiped up at one point an... 2017-02-26   \n",
      "23                                                 no 2016-11-21   \n",
      "24                                                 no 2017-06-12   \n",
      "25                                                 no 2017-03-11   \n",
      "26                                                 no 2017-09-17   \n",
      "27                                                 no 2017-12-19   \n",
      "28                                                 no 2018-02-04   \n",
      "29                                                 no 2018-03-11   \n",
      "30                                                 no 2018-03-04   \n",
      "31                                                 no 2018-02-25   \n",
      "32                                                  n 2018-04-15   \n",
      "33                                                no  2018-10-07   \n",
      "34                                                 no 2018-09-16   \n",
      "35           moved chair in once the assessment began 2018-10-18   \n",
      "36                                 slouched over iPad 2018-12-16   \n",
      "37                                                 no 2019-03-10   \n",
      "38                                                 no 2016-11-12   \n",
      "39                                                 no 2017-05-30   \n",
      "40                                                 no 2017-06-09   \n",
      "41  slightly hunched, she seems a little tall for ... 2018-07-07   \n",
      "42                                                 no 2017-10-05   \n",
      "43                                                 no 2017-10-15   \n",
      "44                                                 no 2017-12-09   \n",
      "45                                                 no 2018-11-28   \n",
      "46  decided to continue drawing dinosaur after trial  2018-07-07   \n",
      "47  posture change: slouched down to get closer to... 2018-07-26   \n",
      "48  initially moved to the right of it when starte... 2018-12-02   \n",
      "49    really long fingernails impacted motor function 2018-12-06   \n",
      "50  turned iPad 45 degrees, stabilized with left h... 2018-12-14   \n",
      "51                                                 no 2019-01-26   \n",
      "52                                                 no 2019-10-06   \n",
      "53                     really wanted to erase errors  2019-10-27   \n",
      "54                                                NaN        NaT   \n",
      "55                                                NaN        NaT   \n",
      "56                                                NaN        NaT   \n",
      "57                                                NaN        NaT   \n",
      "58                                                NaN        NaT   \n",
      "\n",
      "    video blurred (Y/N)  \n",
      "0                     y  \n",
      "1                     y  \n",
      "2                     y  \n",
      "3                     y  \n",
      "4                     y  \n",
      "5                     y  \n",
      "6                     y  \n",
      "7                     y  \n",
      "8                     y  \n",
      "9                     y  \n",
      "10                    y  \n",
      "11                    y  \n",
      "12                    y  \n",
      "13                    y  \n",
      "14                    y  \n",
      "15                    y  \n",
      "16                    y  \n",
      "17                    y  \n",
      "18                    y  \n",
      "19                    y  \n",
      "20                    y  \n",
      "21                    y  \n",
      "22                    y  \n",
      "23                    y  \n",
      "24                    y  \n",
      "25  n (video not found)  \n",
      "26                    y  \n",
      "27  n (video not found)  \n",
      "28                    y  \n",
      "29                    y  \n",
      "30                    y  \n",
      "31                    y  \n",
      "32                    y  \n",
      "33                    y  \n",
      "34                    y  \n",
      "35                    y  \n",
      "36                    y  \n",
      "37                    y  \n",
      "38                    y  \n",
      "39                    y  \n",
      "40                    y  \n",
      "41                    y  \n",
      "42                    y  \n",
      "43                    y  \n",
      "44                    y  \n",
      "45                    y  \n",
      "46                    y  \n",
      "47                    y  \n",
      "48                    y  \n",
      "49                    y  \n",
      "50                    y  \n",
      "51                    y  \n",
      "52                    y  \n",
      "53                    y  \n",
      "54                  NaN  \n",
      "55                  NaN  \n",
      "56                  NaN  \n",
      "57                  NaN  \n",
      "58                  NaN  \n",
      "\n",
      "[59 rows x 29 columns]\n"
     ]
    }
   ],
   "source": [
    "import pandas as pd\n",
    "import numpy as np\n",
    "from matplotlib import pyplot\n",
    "\n",
    "data = pd.read_excel(r'ipad-final.xlsx')\n",
    "df1 = pd.DataFrame(data)\n",
    "print(df1)"
   ]
  },
  {
   "cell_type": "code",
   "execution_count": 37,
   "outputs": [
    {
     "data": {
      "text/plain": "['SessionId (iPad identifier)',\n 'Contacts',\n 'Group',\n 'AGE',\n 'Gender',\n 'Dual Diagnosis',\n 'Conners',\n 'iqscores_verbiq',\n 'iqscores_perfiq',\n 'iqscores_full4iq',\n 'iqscores_full2iq',\n 'manual_dexterity_stand',\n 'aim_catch_standard',\n 'balance_standard',\n 'total_standard',\n 'Praxis_Total_Correct_GTC',\n 'Praxis_Total_Correct_IMI',\n 'Praxis_Total_Correct_TU',\n 'Praxis_Total_Correct_ML',\n 'Praxis_Total_Correct_MF',\n 'DirectnessIndexStdDev',\n 'GesturesAreaStdDev',\n 'GesturesAccelerationMin',\n 'AttitudeStdDev_x',\n 'ipad_behavior',\n 'ipad_motivation',\n 'ipad_motor',\n 'ipad_date',\n 'video blurred (Y/N)']"
     },
     "execution_count": 37,
     "metadata": {},
     "output_type": "execute_result"
    }
   ],
   "source": [
    "list(df1.columns)"
   ],
   "metadata": {
    "collapsed": false,
    "pycharm": {
     "name": "#%%\n"
    }
   }
  },
  {
   "cell_type": "markdown",
   "source": [
    "## Important step!\n",
    "Remove bottom 4 rows with mean and std comparisons, because they cause NA\n",
    "Convert variables to float, but remove datetime"
   ],
   "metadata": {
    "collapsed": false
   }
  },
  {
   "cell_type": "code",
   "execution_count": 2,
   "outputs": [],
   "source": [
    "df1 = df1.drop(columns=[\"ipad_date\",\"SessionId (iPad identifier)\",\"Contacts\", \"ipad_behavior\", \"ipad_motivation\", \"video blurred (Y/N)\", \"ipad_motor\"])\n",
    "df1 =df1.drop(df1.index[54:59])\n",
    "df1 = df1.astype(float)"
   ],
   "metadata": {
    "collapsed": false,
    "pycharm": {
     "name": "#%%\n"
    }
   }
  },
  {
   "cell_type": "code",
   "execution_count": 39,
   "outputs": [
    {
     "name": "stdout",
     "output_type": "stream",
     "text": [
      "Group                           1.925926\n",
      "AGE                            12.163148\n",
      "Gender                          1.277778\n",
      "Dual Diagnosis                  0.296296\n",
      "Conners                        66.777778\n",
      "iqscores_verbiq               113.314815\n",
      "iqscores_perfiq               109.407407\n",
      "iqscores_full4iq              112.518519\n",
      "iqscores_full2iq              112.962963\n",
      "manual_dexterity_stand          6.777778\n",
      "aim_catch_standard              8.111111\n",
      "balance_standard                7.685185\n",
      "total_standard                  6.722222\n",
      "Praxis_Total_Correct_GTC        0.631111\n",
      "Praxis_Total_Correct_IMI        0.546078\n",
      "Praxis_Total_Correct_TU         0.685229\n",
      "Praxis_Total_Correct_ML         0.477078\n",
      "Praxis_Total_Correct_MF         0.602037\n",
      "DirectnessIndexStdDev         112.536887\n",
      "GesturesAreaStdDev          18173.208512\n",
      "GesturesAccelerationMin         0.727429\n",
      "AttitudeStdDev_x                0.009833\n",
      "dtype: float64\n"
     ]
    }
   ],
   "source": [
    "print(df1.mean())"
   ],
   "metadata": {
    "collapsed": false,
    "pycharm": {
     "name": "#%%\n"
    }
   }
  },
  {
   "cell_type": "code",
   "execution_count": 40,
   "outputs": [
    {
     "name": "stdout",
     "output_type": "stream",
     "text": [
      "Group                          0.820765\n",
      "AGE                            2.260747\n",
      "Gender                         0.452109\n",
      "Dual Diagnosis                 0.460911\n",
      "Conners                       19.885205\n",
      "iqscores_verbiq               16.838662\n",
      "iqscores_perfiq               18.699731\n",
      "iqscores_full4iq              16.819509\n",
      "iqscores_full2iq              15.985799\n",
      "manual_dexterity_stand         3.390701\n",
      "aim_catch_standard             3.898072\n",
      "balance_standard               3.484868\n",
      "total_standard                 3.455467\n",
      "Praxis_Total_Correct_GTC       0.150090\n",
      "Praxis_Total_Correct_IMI       0.172817\n",
      "Praxis_Total_Correct_TU        0.153927\n",
      "Praxis_Total_Correct_ML        0.221804\n",
      "Praxis_Total_Correct_MF        0.175148\n",
      "DirectnessIndexStdDev         27.969736\n",
      "GesturesAreaStdDev          9202.134527\n",
      "GesturesAccelerationMin        0.718426\n",
      "AttitudeStdDev_x               0.028685\n",
      "dtype: float64\n"
     ]
    }
   ],
   "source": [
    "print(df1.std())"
   ],
   "metadata": {
    "collapsed": false,
    "pycharm": {
     "name": "#%%\n"
    }
   }
  },
  {
   "cell_type": "code",
   "execution_count": 41,
   "outputs": [
    {
     "data": {
      "text/plain": "Group\n1.0    0.370370\n2.0    0.333333\n3.0    0.296296\ndtype: float64"
     },
     "execution_count": 41,
     "metadata": {},
     "output_type": "execute_result"
    }
   ],
   "source": [
    "df1.value_counts('Group', 'Gender')"
   ],
   "metadata": {
    "collapsed": false,
    "pycharm": {
     "name": "#%%\n"
    }
   }
  },
  {
   "cell_type": "markdown",
   "source": [
    "## Normality tests"
   ],
   "metadata": {
    "collapsed": false
   }
  },
  {
   "cell_type": "markdown",
   "source": [
    "Normality check"
   ],
   "metadata": {
    "collapsed": false
   }
  },
  {
   "cell_type": "code",
   "execution_count": null,
   "outputs": [],
   "source": [
    "df1.hist(column='DirectnessIndexStdDev')"
   ],
   "metadata": {
    "collapsed": false,
    "pycharm": {
     "name": "#%%\n"
    }
   }
  },
  {
   "cell_type": "markdown",
   "source": [
    "## Q-Q Plots"
   ],
   "metadata": {
    "collapsed": false
   }
  },
  {
   "cell_type": "code",
   "execution_count": null,
   "outputs": [],
   "source": [
    "import scipy.stats as stats\n",
    "import pylab as py\n",
    "import statsmodels.api as sm\n",
    "import matplotlib.pyplot as plt\n",
    "\n",
    "fig1 = stats.probplot(df1['DirectnessIndexStdDev'], dist=\"norm\", plot=pylab)\n",
    "plt.show()\n",
    "plt.savefig('q-q_plot_directness.png')\n",
    "fig2 = stats.probplot(df1['GesturesAreaStdDev'], dist=\"norm\", plot=pylab)\n",
    "plt.show()\n",
    "plt.savefig('q-q_plot_area.png')\n",
    "fig3 = stats.probplot(df1['GesturesAccelerationMin'], dist=\"norm\", plot=pylab)\n",
    "plt.savefig('q-q_plot_acc.png')\n",
    "plt.show()\n"
   ],
   "metadata": {
    "collapsed": false,
    "pycharm": {
     "name": "#%%\n"
    }
   }
  },
  {
   "cell_type": "code",
   "execution_count": null,
   "outputs": [],
   "source": [
    "df1.dtypes"
   ],
   "metadata": {
    "collapsed": false,
    "pycharm": {
     "name": "#%%\n"
    }
   }
  },
  {
   "cell_type": "markdown",
   "source": [
    "# Kolmogorov-Smirnov test for non-parametric data"
   ],
   "metadata": {
    "collapsed": false
   }
  },
  {
   "cell_type": "code",
   "execution_count": 3,
   "outputs": [
    {
     "name": "stdout",
     "output_type": "stream",
     "text": [
      "['Group']\n",
      "Statistics 0.9986501019683699 p-value 2.1741127126027457e-155\n",
      "The null hypothesis can be rejected.\n",
      "['AGE']\n",
      "Statistics 1.0 p-value 0.0\n",
      "The null hypothesis can be rejected.\n",
      "['Gender']\n",
      "Statistics 0.9772498680518208 p-value 3.7858348787750895e-89\n",
      "The null hypothesis can be rejected.\n",
      "['Dual Diagnosis']\n",
      "Statistics 0.8413447460685429 p-value 1.924184384986083e-43\n",
      "The null hypothesis can be rejected.\n",
      "['Conners']\n",
      "Statistics 1.0 p-value 0.0\n",
      "The null hypothesis can be rejected.\n",
      "['iqscores_verbiq']\n",
      "Statistics 1.0 p-value 0.0\n",
      "The null hypothesis can be rejected.\n",
      "['iqscores_perfiq']\n",
      "Statistics 1.0 p-value 0.0\n",
      "The null hypothesis can be rejected.\n",
      "['iqscores_full4iq']\n",
      "Statistics 1.0 p-value 0.0\n",
      "The null hypothesis can be rejected.\n",
      "['iqscores_full2iq']\n",
      "Statistics 1.0 p-value 0.0\n",
      "The null hypothesis can be rejected.\n",
      "['manual_dexterity_stand']\n",
      "Statistics 1.0 p-value 0.0\n",
      "The null hypothesis can be rejected.\n",
      "['aim_catch_standard']\n",
      "Statistics 1.0 p-value 0.0\n",
      "The null hypothesis can be rejected.\n",
      "['balance_standard']\n",
      "Statistics 1.0 p-value 0.0\n",
      "The null hypothesis can be rejected.\n",
      "['total_standard']\n",
      "Statistics 1.0 p-value 0.0\n",
      "The null hypothesis can be rejected.\n",
      "['Praxis_Total_Correct_GTC']\n",
      "Statistics 0.8212136203856283 p-value 1.6496670989710373e-40\n",
      "The null hypothesis can be rejected.\n",
      "['Praxis_Total_Correct_IMI']\n",
      "Statistics 0.8185887451082028 p-value 3.795235173045611e-40\n",
      "The null hypothesis can be rejected.\n",
      "['Praxis_Total_Correct_TU']\n",
      "Statistics 0.8263912196613754 p-value 3.0942576734911414e-41\n",
      "The null hypothesis can be rejected.\n",
      "['Praxis_Total_Correct_ML']\n",
      "Statistics 0.8413447460685429 p-value 1.924184384986083e-43\n",
      "The null hypothesis can be rejected.\n",
      "['Praxis_Total_Correct_MF']\n",
      "Statistics 0.8314723925331622 p-value 5.747351639362616e-42\n",
      "The null hypothesis can be rejected.\n",
      "['DirectnessIndexStdDev']\n",
      "Statistics 1.0 p-value 0.0\n",
      "The null hypothesis can be rejected.\n",
      "['GesturesAreaStdDev']\n",
      "Statistics 1.0 p-value 0.0\n",
      "The null hypothesis can be rejected.\n",
      "['GesturesAccelerationMin']\n",
      "Statistics 0.9999244196814682 p-value 5.433763883560701e-223\n",
      "The null hypothesis can be rejected.\n",
      "['AttitudeStdDev_x']\n",
      "Statistics 0.5631903601407162 p-value 1.0972458090183064e-16\n",
      "The null hypothesis can be rejected.\n"
     ]
    }
   ],
   "source": [
    "import scipy.stats as stats\n",
    "\n",
    "for i in df1.columns:\n",
    "    print([i])\n",
    "    a,b = stats.kstest(df1[[i]], 'norm')\n",
    "    print(\"Statistics\", a, \"p-value\", b)\n",
    "    if b < .05:\n",
    "        print(\"The null hypothesis can be rejected.\")\n",
    "    else:\n",
    "        print(\"The null hypothesis cannot be rejected\")"
   ],
   "metadata": {
    "collapsed": false,
    "pycharm": {
     "name": "#%%\n"
    }
   }
  },
  {
   "cell_type": "markdown",
   "source": [
    "## Shapiro-Wilk test"
   ],
   "metadata": {
    "collapsed": false
   }
  },
  {
   "cell_type": "code",
   "execution_count": null,
   "outputs": [],
   "source": [
    "for i in df1.columns:\n",
    "    print([i])\n",
    "    a,b = stats.shapiro(df1[[i]])\n",
    "    print(\"Statistics\", a, \"p-value\", b)\n",
    "    if b < .05:\n",
    "        print(\"The null hypothesis can be rejected.\")\n",
    "    else:\n",
    "        print(\"The null hypothesis cannot be rejected\")"
   ],
   "metadata": {
    "collapsed": false,
    "pycharm": {
     "name": "#%%\n"
    }
   }
  },
  {
   "cell_type": "code",
   "execution_count": 4,
   "outputs": [
    {
     "data": {
      "text/plain": "         AGE  Gender  Dual Diagnosis  Conners  iqscores_verbiq  \\\nGroup                                                            \n1.0    10.46     1.0             0.0     45.0            113.0   \n2.0    11.10     1.0             1.0     90.0             85.0   \n3.0    12.21     1.0             0.0     90.0            105.0   \n\n       iqscores_perfiq  iqscores_full4iq  iqscores_full2iq  \\\nGroup                                                        \n1.0              117.0             118.0             107.0   \n2.0               63.0              72.0              75.0   \n3.0               79.0              91.0              94.0   \n\n       manual_dexterity_stand  aim_catch_standard  ...  total_standard  \\\nGroup                                              ...                   \n1.0                       8.0                11.0  ...            10.0   \n2.0                       1.0                 8.0  ...             1.0   \n3.0                       2.0                10.0  ...             5.0   \n\n       Praxis_Total_Correct_GTC  Praxis_Total_Correct_IMI  \\\nGroup                                                       \n1.0                        0.68                      0.63   \n2.0                        0.52                      0.21   \n3.0                        0.50                      0.44   \n\n       Praxis_Total_Correct_TU  Praxis_Total_Correct_ML  \\\nGroup                                                     \n1.0                       0.94                     0.63   \n2.0                       0.29                     0.11   \n3.0                       0.71                     0.22   \n\n       Praxis_Total_Correct_MF  DirectnessIndexStdDev  GesturesAreaStdDev  \\\nGroup                                                                       \n1.0                       0.63             124.023336         17859.05922   \n2.0                       0.24             123.906827         35854.91724   \n3.0                       0.60             100.496485         16658.15334   \n\n       GesturesAccelerationMin  AttitudeStdDev_x  \nGroup                                             \n1.0                   1.644520          0.000866  \n2.0                   3.156906          0.000702  \n3.0                   0.700550          0.000593  \n\n[3 rows x 21 columns]",
      "text/html": "<div>\n<style scoped>\n    .dataframe tbody tr th:only-of-type {\n        vertical-align: middle;\n    }\n\n    .dataframe tbody tr th {\n        vertical-align: top;\n    }\n\n    .dataframe thead th {\n        text-align: right;\n    }\n</style>\n<table border=\"1\" class=\"dataframe\">\n  <thead>\n    <tr style=\"text-align: right;\">\n      <th></th>\n      <th>AGE</th>\n      <th>Gender</th>\n      <th>Dual Diagnosis</th>\n      <th>Conners</th>\n      <th>iqscores_verbiq</th>\n      <th>iqscores_perfiq</th>\n      <th>iqscores_full4iq</th>\n      <th>iqscores_full2iq</th>\n      <th>manual_dexterity_stand</th>\n      <th>aim_catch_standard</th>\n      <th>...</th>\n      <th>total_standard</th>\n      <th>Praxis_Total_Correct_GTC</th>\n      <th>Praxis_Total_Correct_IMI</th>\n      <th>Praxis_Total_Correct_TU</th>\n      <th>Praxis_Total_Correct_ML</th>\n      <th>Praxis_Total_Correct_MF</th>\n      <th>DirectnessIndexStdDev</th>\n      <th>GesturesAreaStdDev</th>\n      <th>GesturesAccelerationMin</th>\n      <th>AttitudeStdDev_x</th>\n    </tr>\n    <tr>\n      <th>Group</th>\n      <th></th>\n      <th></th>\n      <th></th>\n      <th></th>\n      <th></th>\n      <th></th>\n      <th></th>\n      <th></th>\n      <th></th>\n      <th></th>\n      <th></th>\n      <th></th>\n      <th></th>\n      <th></th>\n      <th></th>\n      <th></th>\n      <th></th>\n      <th></th>\n      <th></th>\n      <th></th>\n      <th></th>\n    </tr>\n  </thead>\n  <tbody>\n    <tr>\n      <th>1.0</th>\n      <td>10.46</td>\n      <td>1.0</td>\n      <td>0.0</td>\n      <td>45.0</td>\n      <td>113.0</td>\n      <td>117.0</td>\n      <td>118.0</td>\n      <td>107.0</td>\n      <td>8.0</td>\n      <td>11.0</td>\n      <td>...</td>\n      <td>10.0</td>\n      <td>0.68</td>\n      <td>0.63</td>\n      <td>0.94</td>\n      <td>0.63</td>\n      <td>0.63</td>\n      <td>124.023336</td>\n      <td>17859.05922</td>\n      <td>1.644520</td>\n      <td>0.000866</td>\n    </tr>\n    <tr>\n      <th>2.0</th>\n      <td>11.10</td>\n      <td>1.0</td>\n      <td>1.0</td>\n      <td>90.0</td>\n      <td>85.0</td>\n      <td>63.0</td>\n      <td>72.0</td>\n      <td>75.0</td>\n      <td>1.0</td>\n      <td>8.0</td>\n      <td>...</td>\n      <td>1.0</td>\n      <td>0.52</td>\n      <td>0.21</td>\n      <td>0.29</td>\n      <td>0.11</td>\n      <td>0.24</td>\n      <td>123.906827</td>\n      <td>35854.91724</td>\n      <td>3.156906</td>\n      <td>0.000702</td>\n    </tr>\n    <tr>\n      <th>3.0</th>\n      <td>12.21</td>\n      <td>1.0</td>\n      <td>0.0</td>\n      <td>90.0</td>\n      <td>105.0</td>\n      <td>79.0</td>\n      <td>91.0</td>\n      <td>94.0</td>\n      <td>2.0</td>\n      <td>10.0</td>\n      <td>...</td>\n      <td>5.0</td>\n      <td>0.50</td>\n      <td>0.44</td>\n      <td>0.71</td>\n      <td>0.22</td>\n      <td>0.60</td>\n      <td>100.496485</td>\n      <td>16658.15334</td>\n      <td>0.700550</td>\n      <td>0.000593</td>\n    </tr>\n  </tbody>\n</table>\n<p>3 rows × 21 columns</p>\n</div>"
     },
     "execution_count": 4,
     "metadata": {},
     "output_type": "execute_result"
    }
   ],
   "source": [
    "df2 = df1.groupby('Group')\n",
    "df2.first()"
   ],
   "metadata": {
    "collapsed": false,
    "pycharm": {
     "name": "#%%\n"
    }
   }
  },
  {
   "cell_type": "code",
   "execution_count": 5,
   "outputs": [],
   "source": [
    "td_data = df2.get_group(1)\n",
    "asd_data = df2.get_group(2)\n",
    "dcd_data = df2.get_group(3)"
   ],
   "metadata": {
    "collapsed": false,
    "pycharm": {
     "name": "#%%\n"
    }
   }
  },
  {
   "cell_type": "code",
   "execution_count": 6,
   "outputs": [
    {
     "name": "stdout",
     "output_type": "stream",
     "text": [
      "['Group']\n",
      "Statistics 0.8413447460685429 p-value 2.205430306931295e-16\n",
      "The null hypothesis can be rejected.\n",
      "['AGE']\n",
      "Statistics 1.0 p-value 0.0\n",
      "The null hypothesis can be rejected.\n",
      "['Gender']\n",
      "Statistics 0.9772498680518208 p-value 2.758724887582737e-33\n",
      "The null hypothesis can be rejected.\n",
      "['Dual Diagnosis']\n",
      "Statistics 0.5 p-value 3.787595240539032e-05\n",
      "The null hypothesis can be rejected.\n",
      "['Conners']\n",
      "Statistics 1.0 p-value 0.0\n",
      "The null hypothesis can be rejected.\n",
      "['iqscores_verbiq']\n",
      "Statistics 1.0 p-value 0.0\n",
      "The null hypothesis can be rejected.\n",
      "['iqscores_perfiq']\n",
      "Statistics 1.0 p-value 0.0\n",
      "The null hypothesis can be rejected.\n",
      "['iqscores_full4iq']\n",
      "Statistics 1.0 p-value 0.0\n",
      "The null hypothesis can be rejected.\n",
      "['iqscores_full2iq']\n",
      "Statistics 1.0 p-value 0.0\n",
      "The null hypothesis can be rejected.\n",
      "['manual_dexterity_stand']\n",
      "Statistics 1.0 p-value 0.0\n",
      "The null hypothesis can be rejected.\n",
      "['aim_catch_standard']\n",
      "Statistics 1.0 p-value 0.0\n",
      "The null hypothesis can be rejected.\n",
      "['balance_standard']\n",
      "Statistics 1.0 p-value 0.0\n",
      "The null hypothesis can be rejected.\n",
      "['total_standard']\n",
      "Statistics 1.0 p-value 0.0\n",
      "The null hypothesis can be rejected.\n",
      "['Praxis_Total_Correct_GTC']\n",
      "Statistics 0.8212136203856283 p-value 2.6327570248922305e-15\n",
      "The null hypothesis can be rejected.\n",
      "['Praxis_Total_Correct_IMI']\n",
      "Statistics 0.8185887451082028 p-value 3.575410941920987e-15\n",
      "The null hypothesis can be rejected.\n",
      "['Praxis_Total_Correct_TU']\n",
      "Statistics 0.8263912196613754 p-value 1.4238698461700304e-15\n",
      "The null hypothesis can be rejected.\n",
      "['Praxis_Total_Correct_ML']\n",
      "Statistics 0.8413447460685429 p-value 2.205430306931295e-16\n",
      "The null hypothesis can be rejected.\n",
      "['Praxis_Total_Correct_MF']\n",
      "Statistics 0.8314723925331622 p-value 7.674132549024388e-16\n",
      "The null hypothesis can be rejected.\n",
      "['DirectnessIndexStdDev']\n",
      "Statistics 1.0 p-value 0.0\n",
      "The null hypothesis can be rejected.\n",
      "['GesturesAreaStdDev']\n",
      "Statistics 1.0 p-value 0.0\n",
      "The null hypothesis can be rejected.\n",
      "['GesturesAccelerationMin']\n",
      "Statistics 0.9499655923572017 p-value 1.9337719059677241e-26\n",
      "The null hypothesis can be rejected.\n",
      "['AttitudeStdDev_x']\n",
      "Statistics 0.5269808699326898 p-value 1.0527158397569207e-05\n",
      "The null hypothesis can be rejected.\n"
     ]
    }
   ],
   "source": [
    "for i in td_data.columns:\n",
    "    print([i])\n",
    "    a,b = stats.kstest(td_data[[i]], 'norm')\n",
    "    print(\"Statistics\", a, \"p-value\", b)\n",
    "    if b < .05:\n",
    "        print(\"The null hypothesis can be rejected.\")\n",
    "    else:\n",
    "        print(\"The null hypothesis cannot be rejected\")"
   ],
   "metadata": {
    "collapsed": false,
    "pycharm": {
     "name": "#%%\n"
    }
   }
  },
  {
   "cell_type": "code",
   "execution_count": 7,
   "outputs": [
    {
     "name": "stdout",
     "output_type": "stream",
     "text": [
      "['Group']\n",
      "Statistics 0.7916952967643738 p-value 2.596257502318622e-07\n",
      "The null hypothesis can be rejected.\n",
      "['AGE']\n",
      "Statistics 0.9551528692245483 p-value 0.04190027341246605\n",
      "The null hypothesis can be rejected.\n",
      "['Gender']\n",
      "Statistics 0.5606359243392944 p-value 1.821582294725399e-11\n",
      "The null hypothesis can be rejected.\n",
      "['Dual Diagnosis']\n",
      "Statistics 0.5734165906906128 p-value 2.788299972855679e-11\n",
      "The null hypothesis can be rejected.\n",
      "['Conners']\n",
      "Statistics 0.7973853349685669 p-value 3.52963638761139e-07\n",
      "The null hypothesis can be rejected.\n",
      "['iqscores_verbiq']\n",
      "Statistics 0.9795827865600586 p-value 0.48272350430488586\n",
      "The null hypothesis cannot be rejected\n",
      "['iqscores_perfiq']\n",
      "Statistics 0.9730361104011536 p-value 0.261368066072464\n",
      "The null hypothesis cannot be rejected\n",
      "['iqscores_full4iq']\n",
      "Statistics 0.968917191028595 p-value 0.17266787588596344\n",
      "The null hypothesis cannot be rejected\n",
      "['iqscores_full2iq']\n",
      "Statistics 0.9583722949028015 p-value 0.058270085602998734\n",
      "The null hypothesis cannot be rejected\n",
      "['manual_dexterity_stand']\n",
      "Statistics 0.9673715829849243 p-value 0.14740291237831116\n",
      "The null hypothesis cannot be rejected\n",
      "['aim_catch_standard']\n",
      "Statistics 0.9613414406776428 p-value 0.07913147658109665\n",
      "The null hypothesis cannot be rejected\n",
      "['balance_standard']\n",
      "Statistics 0.9506826400756836 p-value 0.026642560958862305\n",
      "The null hypothesis can be rejected.\n",
      "['total_standard']\n",
      "Statistics 0.9489244818687439 p-value 0.02234058454632759\n",
      "The null hypothesis can be rejected.\n",
      "['Praxis_Total_Correct_GTC']\n",
      "Statistics 0.9713166356086731 p-value 0.22018563747406006\n",
      "The null hypothesis cannot be rejected\n",
      "['Praxis_Total_Correct_IMI']\n",
      "Statistics 0.9849319458007812 p-value 0.7282437682151794\n",
      "The null hypothesis cannot be rejected\n",
      "['Praxis_Total_Correct_TU']\n",
      "Statistics 0.9507184624671936 p-value 0.02673870325088501\n",
      "The null hypothesis can be rejected.\n",
      "['Praxis_Total_Correct_ML']\n",
      "Statistics 0.9561478495597839 p-value 0.04638281092047691\n",
      "The null hypothesis can be rejected.\n",
      "['Praxis_Total_Correct_MF']\n",
      "Statistics 0.9749735593795776 p-value 0.3158295452594757\n",
      "The null hypothesis cannot be rejected\n",
      "['DirectnessIndexStdDev']\n",
      "Statistics 0.968146562576294 p-value 0.15959057211875916\n",
      "The null hypothesis cannot be rejected\n",
      "['GesturesAreaStdDev']\n",
      "Statistics 0.954261064529419 p-value 0.0382610559463501\n",
      "The null hypothesis can be rejected.\n",
      "['GesturesAccelerationMin']\n",
      "Statistics 0.7753305435180664 p-value 1.1030419244661971e-07\n",
      "The null hypothesis can be rejected.\n",
      "['AttitudeStdDev_x']\n",
      "Statistics 0.37115025520324707 p-value 7.562299988691026e-14\n",
      "The null hypothesis can be rejected.\n"
     ]
    }
   ],
   "source": [
    "for i in td_data.columns:\n",
    "    print([i])\n",
    "    a,b = stats.shapiro(df1[[i]])\n",
    "    print(\"Statistics\", a, \"p-value\", b)\n",
    "    if b < .05:\n",
    "        print(\"The null hypothesis can be rejected.\")\n",
    "    else:\n",
    "        print(\"The null hypothesis cannot be rejected\")"
   ],
   "metadata": {
    "collapsed": false,
    "pycharm": {
     "name": "#%%\n"
    }
   }
  },
  {
   "cell_type": "markdown",
   "source": [
    "### Descriptive statistics of 3 groups"
   ],
   "metadata": {
    "collapsed": false
   }
  },
  {
   "cell_type": "code",
   "execution_count": 11,
   "outputs": [
    {
     "data": {
      "text/plain": "           Group        AGE     Gender  Dual Diagnosis    Conners  \\\ncount  54.000000  54.000000  54.000000       54.000000  54.000000   \nmean    1.925926  12.163148   1.277778        0.296296  66.777778   \nstd     0.820765   2.260747   0.452109        0.460911  19.885205   \nmin     1.000000   8.650000   1.000000        0.000000  43.000000   \n25%     1.000000  10.392500   1.000000        0.000000  45.000000   \n50%     2.000000  11.655000   1.000000        0.000000  67.000000   \n75%     3.000000  13.930000   2.000000        1.000000  89.500000   \nmax     3.000000  17.840000   2.000000        1.000000  90.000000   \n\n       iqscores_verbiq  iqscores_perfiq  iqscores_full4iq  iqscores_full2iq  \\\ncount        54.000000        54.000000         54.000000         54.000000   \nmean        113.314815       109.407407        112.518519        112.962963   \nstd          16.838662        18.699731         16.819509         15.985799   \nmin          65.000000        63.000000         72.000000         75.000000   \n25%         104.000000        99.250000        105.000000        107.250000   \n50%         113.000000       110.500000        113.000000        114.500000   \n75%         122.000000       121.000000        123.750000        123.000000   \nmax         151.000000       154.000000        142.000000        142.000000   \n\n       manual_dexterity_stand  ...  total_standard  Praxis_Total_Correct_GTC  \\\ncount               54.000000  ...       54.000000                 54.000000   \nmean                 6.777778  ...        6.722222                  0.631111   \nstd                  3.390701  ...        3.455467                  0.150090   \nmin                  1.000000  ...        1.000000                  0.320000   \n25%                  4.250000  ...        4.000000                  0.505000   \n50%                  6.000000  ...        6.000000                  0.635000   \n75%                  9.000000  ...        9.750000                  0.760000   \nmax                 15.000000  ...       14.000000                  0.920000   \n\n       Praxis_Total_Correct_IMI  Praxis_Total_Correct_TU  \\\ncount                 54.000000                54.000000   \nmean                   0.546078                 0.685229   \nstd                    0.172817                 0.153927   \nmin                    0.176471                 0.290000   \n25%                    0.417500                 0.604265   \n50%                    0.559412                 0.710000   \n75%                    0.679118                 0.763529   \nmax                    0.910000                 0.940000   \n\n       Praxis_Total_Correct_ML  Praxis_Total_Correct_MF  \\\ncount                54.000000                54.000000   \nmean                  0.477078                 0.602037   \nstd                   0.221804                 0.175148   \nmin                   0.110000                 0.200000   \n25%                   0.330000                 0.480000   \n50%                   0.440000                 0.635000   \n75%                   0.612500                 0.720000   \nmax                   1.000000                 0.960000   \n\n       DirectnessIndexStdDev  GesturesAreaStdDev  GesturesAccelerationMin  \\\ncount              54.000000           54.000000                54.000000   \nmean              112.536887        18173.208512                 0.727429   \nstd                27.969736         9202.134527                 0.718426   \nmin                65.254840         2832.763919                 0.026896   \n25%                86.650004        10936.303370                 0.282831   \n50%               116.472248        17431.290070                 0.480399   \n75%               130.748625        22929.006252                 0.936741   \nmax               179.337543        41586.202670                 3.789155   \n\n       AttitudeStdDev_x  \ncount         54.000000  \nmean           0.009833  \nstd            0.028685  \nmin            0.000462  \n25%            0.000624  \n50%            0.000801  \n75%            0.001310  \nmax            0.159063  \n\n[8 rows x 22 columns]",
      "text/html": "<div>\n<style scoped>\n    .dataframe tbody tr th:only-of-type {\n        vertical-align: middle;\n    }\n\n    .dataframe tbody tr th {\n        vertical-align: top;\n    }\n\n    .dataframe thead th {\n        text-align: right;\n    }\n</style>\n<table border=\"1\" class=\"dataframe\">\n  <thead>\n    <tr style=\"text-align: right;\">\n      <th></th>\n      <th>Group</th>\n      <th>AGE</th>\n      <th>Gender</th>\n      <th>Dual Diagnosis</th>\n      <th>Conners</th>\n      <th>iqscores_verbiq</th>\n      <th>iqscores_perfiq</th>\n      <th>iqscores_full4iq</th>\n      <th>iqscores_full2iq</th>\n      <th>manual_dexterity_stand</th>\n      <th>...</th>\n      <th>total_standard</th>\n      <th>Praxis_Total_Correct_GTC</th>\n      <th>Praxis_Total_Correct_IMI</th>\n      <th>Praxis_Total_Correct_TU</th>\n      <th>Praxis_Total_Correct_ML</th>\n      <th>Praxis_Total_Correct_MF</th>\n      <th>DirectnessIndexStdDev</th>\n      <th>GesturesAreaStdDev</th>\n      <th>GesturesAccelerationMin</th>\n      <th>AttitudeStdDev_x</th>\n    </tr>\n  </thead>\n  <tbody>\n    <tr>\n      <th>count</th>\n      <td>54.000000</td>\n      <td>54.000000</td>\n      <td>54.000000</td>\n      <td>54.000000</td>\n      <td>54.000000</td>\n      <td>54.000000</td>\n      <td>54.000000</td>\n      <td>54.000000</td>\n      <td>54.000000</td>\n      <td>54.000000</td>\n      <td>...</td>\n      <td>54.000000</td>\n      <td>54.000000</td>\n      <td>54.000000</td>\n      <td>54.000000</td>\n      <td>54.000000</td>\n      <td>54.000000</td>\n      <td>54.000000</td>\n      <td>54.000000</td>\n      <td>54.000000</td>\n      <td>54.000000</td>\n    </tr>\n    <tr>\n      <th>mean</th>\n      <td>1.925926</td>\n      <td>12.163148</td>\n      <td>1.277778</td>\n      <td>0.296296</td>\n      <td>66.777778</td>\n      <td>113.314815</td>\n      <td>109.407407</td>\n      <td>112.518519</td>\n      <td>112.962963</td>\n      <td>6.777778</td>\n      <td>...</td>\n      <td>6.722222</td>\n      <td>0.631111</td>\n      <td>0.546078</td>\n      <td>0.685229</td>\n      <td>0.477078</td>\n      <td>0.602037</td>\n      <td>112.536887</td>\n      <td>18173.208512</td>\n      <td>0.727429</td>\n      <td>0.009833</td>\n    </tr>\n    <tr>\n      <th>std</th>\n      <td>0.820765</td>\n      <td>2.260747</td>\n      <td>0.452109</td>\n      <td>0.460911</td>\n      <td>19.885205</td>\n      <td>16.838662</td>\n      <td>18.699731</td>\n      <td>16.819509</td>\n      <td>15.985799</td>\n      <td>3.390701</td>\n      <td>...</td>\n      <td>3.455467</td>\n      <td>0.150090</td>\n      <td>0.172817</td>\n      <td>0.153927</td>\n      <td>0.221804</td>\n      <td>0.175148</td>\n      <td>27.969736</td>\n      <td>9202.134527</td>\n      <td>0.718426</td>\n      <td>0.028685</td>\n    </tr>\n    <tr>\n      <th>min</th>\n      <td>1.000000</td>\n      <td>8.650000</td>\n      <td>1.000000</td>\n      <td>0.000000</td>\n      <td>43.000000</td>\n      <td>65.000000</td>\n      <td>63.000000</td>\n      <td>72.000000</td>\n      <td>75.000000</td>\n      <td>1.000000</td>\n      <td>...</td>\n      <td>1.000000</td>\n      <td>0.320000</td>\n      <td>0.176471</td>\n      <td>0.290000</td>\n      <td>0.110000</td>\n      <td>0.200000</td>\n      <td>65.254840</td>\n      <td>2832.763919</td>\n      <td>0.026896</td>\n      <td>0.000462</td>\n    </tr>\n    <tr>\n      <th>25%</th>\n      <td>1.000000</td>\n      <td>10.392500</td>\n      <td>1.000000</td>\n      <td>0.000000</td>\n      <td>45.000000</td>\n      <td>104.000000</td>\n      <td>99.250000</td>\n      <td>105.000000</td>\n      <td>107.250000</td>\n      <td>4.250000</td>\n      <td>...</td>\n      <td>4.000000</td>\n      <td>0.505000</td>\n      <td>0.417500</td>\n      <td>0.604265</td>\n      <td>0.330000</td>\n      <td>0.480000</td>\n      <td>86.650004</td>\n      <td>10936.303370</td>\n      <td>0.282831</td>\n      <td>0.000624</td>\n    </tr>\n    <tr>\n      <th>50%</th>\n      <td>2.000000</td>\n      <td>11.655000</td>\n      <td>1.000000</td>\n      <td>0.000000</td>\n      <td>67.000000</td>\n      <td>113.000000</td>\n      <td>110.500000</td>\n      <td>113.000000</td>\n      <td>114.500000</td>\n      <td>6.000000</td>\n      <td>...</td>\n      <td>6.000000</td>\n      <td>0.635000</td>\n      <td>0.559412</td>\n      <td>0.710000</td>\n      <td>0.440000</td>\n      <td>0.635000</td>\n      <td>116.472248</td>\n      <td>17431.290070</td>\n      <td>0.480399</td>\n      <td>0.000801</td>\n    </tr>\n    <tr>\n      <th>75%</th>\n      <td>3.000000</td>\n      <td>13.930000</td>\n      <td>2.000000</td>\n      <td>1.000000</td>\n      <td>89.500000</td>\n      <td>122.000000</td>\n      <td>121.000000</td>\n      <td>123.750000</td>\n      <td>123.000000</td>\n      <td>9.000000</td>\n      <td>...</td>\n      <td>9.750000</td>\n      <td>0.760000</td>\n      <td>0.679118</td>\n      <td>0.763529</td>\n      <td>0.612500</td>\n      <td>0.720000</td>\n      <td>130.748625</td>\n      <td>22929.006252</td>\n      <td>0.936741</td>\n      <td>0.001310</td>\n    </tr>\n    <tr>\n      <th>max</th>\n      <td>3.000000</td>\n      <td>17.840000</td>\n      <td>2.000000</td>\n      <td>1.000000</td>\n      <td>90.000000</td>\n      <td>151.000000</td>\n      <td>154.000000</td>\n      <td>142.000000</td>\n      <td>142.000000</td>\n      <td>15.000000</td>\n      <td>...</td>\n      <td>14.000000</td>\n      <td>0.920000</td>\n      <td>0.910000</td>\n      <td>0.940000</td>\n      <td>1.000000</td>\n      <td>0.960000</td>\n      <td>179.337543</td>\n      <td>41586.202670</td>\n      <td>3.789155</td>\n      <td>0.159063</td>\n    </tr>\n  </tbody>\n</table>\n<p>8 rows × 22 columns</p>\n</div>"
     },
     "execution_count": 11,
     "metadata": {},
     "output_type": "execute_result"
    }
   ],
   "source": [
    "df1.describe()"
   ],
   "metadata": {
    "collapsed": false,
    "pycharm": {
     "name": "#%%\n"
    }
   }
  },
  {
   "cell_type": "markdown",
   "source": [
    "## Correlations\n",
    "### Kendall's tau"
   ],
   "metadata": {
    "collapsed": false
   }
  },
  {
   "cell_type": "code",
   "execution_count": 64,
   "outputs": [
    {
     "name": "stdout",
     "output_type": "stream",
     "text": [
      "Kendall correlation coefficient: 0.019\n",
      "Samples are uncorrelated (fail to reject H0) p=0.840\n"
     ]
    }
   ],
   "source": [
    "from scipy.stats import kendalltau\n",
    "\n",
    "coef, p = kendalltau(df1['AttitudeStdDev_x'], df1['GesturesAccelerationMin'])\n",
    "print('Kendall correlation coefficient: %.3f' % coef)\n",
    "# interpret the significance\n",
    "alpha = 0.05\n",
    "if p > alpha:\n",
    "\tprint('Samples are uncorrelated (fail to reject H0) p=%.3f' % p)\n",
    "else:\n",
    "\tprint('Samples are correlated (reject H0) p=%.3f' % p)"
   ],
   "metadata": {
    "collapsed": false,
    "pycharm": {
     "name": "#%%\n"
    }
   }
  },
  {
   "cell_type": "markdown",
   "source": [
    "## Mann Whitney U Test - Test1"
   ],
   "metadata": {
    "collapsed": false
   }
  },
  {
   "cell_type": "code",
   "execution_count": null,
   "outputs": [],
   "source": [
    "import scipy.stats as stats\n",
    "import researchpy as rp\n",
    "\n",
    "stats.mannwhitneyu(td_data['DirectnessIndexStdDev'], asd_data['DirectnessIndexStdDev'], alternative='two-sided')"
   ],
   "metadata": {
    "collapsed": false,
    "pycharm": {
     "name": "#%%\n"
    }
   }
  },
  {
   "cell_type": "markdown",
   "source": [
    "## Independent t-test"
   ],
   "metadata": {
    "collapsed": false
   }
  },
  {
   "cell_type": "code",
   "execution_count": null,
   "outputs": [],
   "source": [
    "stats.ttest_ind(df1['DirectnessIndexStdDev'][df1['Group'] == 1],\n",
    "                df1['DirectnessIndexStdDev'][df1['Group'] == 2])"
   ],
   "metadata": {
    "collapsed": false,
    "pycharm": {
     "name": "#%%\n"
    }
   }
  },
  {
   "cell_type": "code",
   "execution_count": null,
   "outputs": [],
   "source": [
    "stats.ttest_ind(df1['GesturesAccelerationMin'][df1['Group'] == 1],\n",
    "                df1['GesturesAccelerationMin'][df1['Group'] == 2])"
   ],
   "metadata": {
    "collapsed": false,
    "pycharm": {
     "name": "#%%\n"
    }
   }
  },
  {
   "cell_type": "code",
   "execution_count": null,
   "outputs": [],
   "source": [],
   "metadata": {
    "collapsed": false,
    "pycharm": {
     "name": "#%%\n"
    }
   }
  }
 ],
 "metadata": {
  "kernelspec": {
   "display_name": "Python 3",
   "language": "python",
   "name": "python3"
  },
  "language_info": {
   "codemirror_mode": {
    "name": "ipython",
    "version": 2
   },
   "file_extension": ".py",
   "mimetype": "text/x-python",
   "name": "python",
   "nbconvert_exporter": "python",
   "pygments_lexer": "ipython2",
   "version": "2.7.6"
  }
 },
 "nbformat": 4,
 "nbformat_minor": 0
}